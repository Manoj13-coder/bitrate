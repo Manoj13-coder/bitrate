{
 "cells": [
  {
   "cell_type": "code",
   "execution_count": 21,
   "metadata": {},
   "outputs": [],
   "source": [
    "import os\n",
    "import re\n",
    "import pandas as pd\n",
    "import json\n",
    "\n",
    "POSITIVE_DIR = 'data/positive/'\n",
    "NEGATIVE_DIR = 'data/negative/'"
   ]
  },
  {
   "cell_type": "markdown",
   "metadata": {},
   "source": [
    "## Load data\n",
    "\n",
    "Load JSON files generated with PoseNet. "
   ]
  },
  {
   "cell_type": "code",
   "execution_count": 22,
   "metadata": {},
   "outputs": [],
   "source": [
    "def load_files(dir_name):\n",
    "    df = pd.DataFrame()\n",
    "    files = [f for f in os.listdir(dir_name) if f.endswith('.log') or f.endswith('.json')]\n",
    "    for f in files:\n",
    "        with open(dir_name + f) as content:\n",
    "            data = content.read()\n",
    "            if \"sketch.js:45 poseJSON:  \" in data:\n",
    "                data = data.replace(\"sketch.js:45 poseJSON:  \", \",\")\n",
    "                data = data[1:-1]\n",
    "                data = '[{}]'.format(data)\n",
    "            data = json.loads(data)\n",
    "            for value in data:\n",
    "                df_aux = {}\n",
    "                for scores in value:\n",
    "                    part = scores['part']\n",
    "                    df_aux['score_' + part] = scores['score']\n",
    "                    df_aux['position_x_' + part] = scores['position']['x']\n",
    "                    df_aux['position_y_' + part] = scores['position']['y']\n",
    "                df = df.append(df_aux, ignore_index=True)\n",
    "    return df"
   ]
  },
  {
   "cell_type": "code",
   "execution_count": 23,
   "metadata": {},
   "outputs": [
    {
     "name": "stdout",
     "output_type": "stream",
     "text": [
      "Positive: (125, 52)\n",
      "Negative: (80, 52)\n"
     ]
    }
   ],
   "source": [
    "df_positive = load_files(POSITIVE_DIR)\n",
    "df_negative = load_files(NEGATIVE_DIR)\n",
    "df_positive['class'] = 1\n",
    "df_negative['class'] = 0\n",
    "print('Positive:', df_positive.shape)\n",
    "print('Negative:', df_negative.shape)\n",
    "df = df_positive.append(df_negative)"
   ]
  },
  {
   "cell_type": "code",
   "execution_count": 24,
   "metadata": {},
   "outputs": [
    {
     "data": {
      "text/html": [
       "<div>\n",
       "<style scoped>\n",
       "    .dataframe tbody tr th:only-of-type {\n",
       "        vertical-align: middle;\n",
       "    }\n",
       "\n",
       "    .dataframe tbody tr th {\n",
       "        vertical-align: top;\n",
       "    }\n",
       "\n",
       "    .dataframe thead th {\n",
       "        text-align: right;\n",
       "    }\n",
       "</style>\n",
       "<table border=\"1\" class=\"dataframe\">\n",
       "  <thead>\n",
       "    <tr style=\"text-align: right;\">\n",
       "      <th></th>\n",
       "      <th>position_x_leftAnkle</th>\n",
       "      <th>position_x_leftEar</th>\n",
       "      <th>position_x_leftElbow</th>\n",
       "      <th>position_x_leftEye</th>\n",
       "      <th>position_x_leftHip</th>\n",
       "      <th>position_x_leftKnee</th>\n",
       "      <th>position_x_leftShoulder</th>\n",
       "      <th>position_x_leftWrist</th>\n",
       "      <th>position_x_nose</th>\n",
       "      <th>position_x_rightAnkle</th>\n",
       "      <th>...</th>\n",
       "      <th>score_nose</th>\n",
       "      <th>score_rightAnkle</th>\n",
       "      <th>score_rightEar</th>\n",
       "      <th>score_rightElbow</th>\n",
       "      <th>score_rightEye</th>\n",
       "      <th>score_rightHip</th>\n",
       "      <th>score_rightKnee</th>\n",
       "      <th>score_rightShoulder</th>\n",
       "      <th>score_rightWrist</th>\n",
       "      <th>class</th>\n",
       "    </tr>\n",
       "  </thead>\n",
       "  <tbody>\n",
       "    <tr>\n",
       "      <th>0</th>\n",
       "      <td>86.689562</td>\n",
       "      <td>475.071675</td>\n",
       "      <td>682.146813</td>\n",
       "      <td>451.837372</td>\n",
       "      <td>421.187606</td>\n",
       "      <td>199.474623</td>\n",
       "      <td>542.782890</td>\n",
       "      <td>81.328669</td>\n",
       "      <td>423.265462</td>\n",
       "      <td>84.529987</td>\n",
       "      <td>...</td>\n",
       "      <td>0.999254</td>\n",
       "      <td>0.034086</td>\n",
       "      <td>0.844763</td>\n",
       "      <td>0.578124</td>\n",
       "      <td>0.999635</td>\n",
       "      <td>0.069375</td>\n",
       "      <td>0.038177</td>\n",
       "      <td>0.979412</td>\n",
       "      <td>0.456421</td>\n",
       "      <td>1</td>\n",
       "    </tr>\n",
       "    <tr>\n",
       "      <th>1</th>\n",
       "      <td>594.481567</td>\n",
       "      <td>440.496470</td>\n",
       "      <td>629.739985</td>\n",
       "      <td>424.751727</td>\n",
       "      <td>405.975176</td>\n",
       "      <td>131.047420</td>\n",
       "      <td>511.105264</td>\n",
       "      <td>545.525054</td>\n",
       "      <td>403.456252</td>\n",
       "      <td>500.439976</td>\n",
       "      <td>...</td>\n",
       "      <td>0.998187</td>\n",
       "      <td>0.012726</td>\n",
       "      <td>0.773543</td>\n",
       "      <td>0.448644</td>\n",
       "      <td>0.998898</td>\n",
       "      <td>0.085103</td>\n",
       "      <td>0.080082</td>\n",
       "      <td>0.531657</td>\n",
       "      <td>0.096080</td>\n",
       "      <td>1</td>\n",
       "    </tr>\n",
       "    <tr>\n",
       "      <th>2</th>\n",
       "      <td>524.047567</td>\n",
       "      <td>340.148807</td>\n",
       "      <td>538.992868</td>\n",
       "      <td>320.029910</td>\n",
       "      <td>334.361368</td>\n",
       "      <td>313.346987</td>\n",
       "      <td>319.813722</td>\n",
       "      <td>738.636441</td>\n",
       "      <td>287.671730</td>\n",
       "      <td>528.359071</td>\n",
       "      <td>...</td>\n",
       "      <td>0.999554</td>\n",
       "      <td>0.033364</td>\n",
       "      <td>0.932265</td>\n",
       "      <td>0.466368</td>\n",
       "      <td>0.999205</td>\n",
       "      <td>0.078910</td>\n",
       "      <td>0.040251</td>\n",
       "      <td>0.692615</td>\n",
       "      <td>0.773867</td>\n",
       "      <td>1</td>\n",
       "    </tr>\n",
       "    <tr>\n",
       "      <th>3</th>\n",
       "      <td>601.338071</td>\n",
       "      <td>355.671068</td>\n",
       "      <td>615.440897</td>\n",
       "      <td>327.842196</td>\n",
       "      <td>312.797671</td>\n",
       "      <td>638.903524</td>\n",
       "      <td>447.185021</td>\n",
       "      <td>411.688589</td>\n",
       "      <td>308.695681</td>\n",
       "      <td>136.831677</td>\n",
       "      <td>...</td>\n",
       "      <td>0.999821</td>\n",
       "      <td>0.020808</td>\n",
       "      <td>0.903296</td>\n",
       "      <td>0.294771</td>\n",
       "      <td>0.999145</td>\n",
       "      <td>0.065031</td>\n",
       "      <td>0.027676</td>\n",
       "      <td>0.773847</td>\n",
       "      <td>0.460311</td>\n",
       "      <td>1</td>\n",
       "    </tr>\n",
       "    <tr>\n",
       "      <th>4</th>\n",
       "      <td>101.609927</td>\n",
       "      <td>595.272317</td>\n",
       "      <td>362.193732</td>\n",
       "      <td>570.653489</td>\n",
       "      <td>810.200043</td>\n",
       "      <td>90.434758</td>\n",
       "      <td>662.900077</td>\n",
       "      <td>345.576780</td>\n",
       "      <td>538.733718</td>\n",
       "      <td>104.335907</td>\n",
       "      <td>...</td>\n",
       "      <td>0.999701</td>\n",
       "      <td>0.050357</td>\n",
       "      <td>0.938881</td>\n",
       "      <td>0.606705</td>\n",
       "      <td>0.999309</td>\n",
       "      <td>0.196663</td>\n",
       "      <td>0.283722</td>\n",
       "      <td>0.602111</td>\n",
       "      <td>0.652565</td>\n",
       "      <td>1</td>\n",
       "    </tr>\n",
       "    <tr>\n",
       "      <th>...</th>\n",
       "      <td>...</td>\n",
       "      <td>...</td>\n",
       "      <td>...</td>\n",
       "      <td>...</td>\n",
       "      <td>...</td>\n",
       "      <td>...</td>\n",
       "      <td>...</td>\n",
       "      <td>...</td>\n",
       "      <td>...</td>\n",
       "      <td>...</td>\n",
       "      <td>...</td>\n",
       "      <td>...</td>\n",
       "      <td>...</td>\n",
       "      <td>...</td>\n",
       "      <td>...</td>\n",
       "      <td>...</td>\n",
       "      <td>...</td>\n",
       "      <td>...</td>\n",
       "      <td>...</td>\n",
       "      <td>...</td>\n",
       "      <td>...</td>\n",
       "    </tr>\n",
       "    <tr>\n",
       "      <th>75</th>\n",
       "      <td>582.499392</td>\n",
       "      <td>455.639553</td>\n",
       "      <td>550.456837</td>\n",
       "      <td>411.973815</td>\n",
       "      <td>580.356559</td>\n",
       "      <td>694.405095</td>\n",
       "      <td>528.706235</td>\n",
       "      <td>543.875870</td>\n",
       "      <td>407.378984</td>\n",
       "      <td>158.381659</td>\n",
       "      <td>...</td>\n",
       "      <td>0.739462</td>\n",
       "      <td>0.059251</td>\n",
       "      <td>0.749874</td>\n",
       "      <td>0.437110</td>\n",
       "      <td>0.961477</td>\n",
       "      <td>0.071201</td>\n",
       "      <td>0.062468</td>\n",
       "      <td>0.375798</td>\n",
       "      <td>0.246137</td>\n",
       "      <td>0</td>\n",
       "    </tr>\n",
       "    <tr>\n",
       "      <th>76</th>\n",
       "      <td>538.024427</td>\n",
       "      <td>237.304403</td>\n",
       "      <td>484.500205</td>\n",
       "      <td>188.451555</td>\n",
       "      <td>352.693645</td>\n",
       "      <td>474.828199</td>\n",
       "      <td>333.426770</td>\n",
       "      <td>541.141495</td>\n",
       "      <td>164.869399</td>\n",
       "      <td>565.541071</td>\n",
       "      <td>...</td>\n",
       "      <td>0.999632</td>\n",
       "      <td>0.018671</td>\n",
       "      <td>0.837266</td>\n",
       "      <td>0.183742</td>\n",
       "      <td>0.999025</td>\n",
       "      <td>0.044633</td>\n",
       "      <td>0.016336</td>\n",
       "      <td>0.794410</td>\n",
       "      <td>0.684698</td>\n",
       "      <td>0</td>\n",
       "    </tr>\n",
       "    <tr>\n",
       "      <th>77</th>\n",
       "      <td>440.514424</td>\n",
       "      <td>259.685163</td>\n",
       "      <td>465.924713</td>\n",
       "      <td>213.486110</td>\n",
       "      <td>444.068523</td>\n",
       "      <td>192.400137</td>\n",
       "      <td>368.459311</td>\n",
       "      <td>528.861602</td>\n",
       "      <td>187.814070</td>\n",
       "      <td>559.560718</td>\n",
       "      <td>...</td>\n",
       "      <td>0.999834</td>\n",
       "      <td>0.024734</td>\n",
       "      <td>0.875596</td>\n",
       "      <td>0.305590</td>\n",
       "      <td>0.999849</td>\n",
       "      <td>0.049900</td>\n",
       "      <td>0.030451</td>\n",
       "      <td>0.909052</td>\n",
       "      <td>0.468263</td>\n",
       "      <td>0</td>\n",
       "    </tr>\n",
       "    <tr>\n",
       "      <th>78</th>\n",
       "      <td>130.700921</td>\n",
       "      <td>789.585407</td>\n",
       "      <td>170.556926</td>\n",
       "      <td>679.622427</td>\n",
       "      <td>785.747175</td>\n",
       "      <td>167.561216</td>\n",
       "      <td>831.612316</td>\n",
       "      <td>811.137942</td>\n",
       "      <td>601.983001</td>\n",
       "      <td>202.387520</td>\n",
       "      <td>...</td>\n",
       "      <td>0.996553</td>\n",
       "      <td>0.010255</td>\n",
       "      <td>0.438604</td>\n",
       "      <td>0.018512</td>\n",
       "      <td>0.995736</td>\n",
       "      <td>0.018956</td>\n",
       "      <td>0.018354</td>\n",
       "      <td>0.221064</td>\n",
       "      <td>0.017909</td>\n",
       "      <td>0</td>\n",
       "    </tr>\n",
       "    <tr>\n",
       "      <th>79</th>\n",
       "      <td>159.917560</td>\n",
       "      <td>833.296411</td>\n",
       "      <td>184.949954</td>\n",
       "      <td>780.103727</td>\n",
       "      <td>804.816125</td>\n",
       "      <td>104.998435</td>\n",
       "      <td>851.991599</td>\n",
       "      <td>746.286308</td>\n",
       "      <td>712.181145</td>\n",
       "      <td>114.267407</td>\n",
       "      <td>...</td>\n",
       "      <td>0.964893</td>\n",
       "      <td>0.016142</td>\n",
       "      <td>0.545817</td>\n",
       "      <td>0.028433</td>\n",
       "      <td>0.998009</td>\n",
       "      <td>0.024504</td>\n",
       "      <td>0.027473</td>\n",
       "      <td>0.489109</td>\n",
       "      <td>0.036795</td>\n",
       "      <td>0</td>\n",
       "    </tr>\n",
       "  </tbody>\n",
       "</table>\n",
       "<p>205 rows × 52 columns</p>\n",
       "</div>"
      ],
      "text/plain": [
       "    position_x_leftAnkle  position_x_leftEar  position_x_leftElbow  \\\n",
       "0              86.689562          475.071675            682.146813   \n",
       "1             594.481567          440.496470            629.739985   \n",
       "2             524.047567          340.148807            538.992868   \n",
       "3             601.338071          355.671068            615.440897   \n",
       "4             101.609927          595.272317            362.193732   \n",
       "..                   ...                 ...                   ...   \n",
       "75            582.499392          455.639553            550.456837   \n",
       "76            538.024427          237.304403            484.500205   \n",
       "77            440.514424          259.685163            465.924713   \n",
       "78            130.700921          789.585407            170.556926   \n",
       "79            159.917560          833.296411            184.949954   \n",
       "\n",
       "    position_x_leftEye  position_x_leftHip  position_x_leftKnee  \\\n",
       "0           451.837372          421.187606           199.474623   \n",
       "1           424.751727          405.975176           131.047420   \n",
       "2           320.029910          334.361368           313.346987   \n",
       "3           327.842196          312.797671           638.903524   \n",
       "4           570.653489          810.200043            90.434758   \n",
       "..                 ...                 ...                  ...   \n",
       "75          411.973815          580.356559           694.405095   \n",
       "76          188.451555          352.693645           474.828199   \n",
       "77          213.486110          444.068523           192.400137   \n",
       "78          679.622427          785.747175           167.561216   \n",
       "79          780.103727          804.816125           104.998435   \n",
       "\n",
       "    position_x_leftShoulder  position_x_leftWrist  position_x_nose  \\\n",
       "0                542.782890             81.328669       423.265462   \n",
       "1                511.105264            545.525054       403.456252   \n",
       "2                319.813722            738.636441       287.671730   \n",
       "3                447.185021            411.688589       308.695681   \n",
       "4                662.900077            345.576780       538.733718   \n",
       "..                      ...                   ...              ...   \n",
       "75               528.706235            543.875870       407.378984   \n",
       "76               333.426770            541.141495       164.869399   \n",
       "77               368.459311            528.861602       187.814070   \n",
       "78               831.612316            811.137942       601.983001   \n",
       "79               851.991599            746.286308       712.181145   \n",
       "\n",
       "    position_x_rightAnkle  ...  score_nose  score_rightAnkle  score_rightEar  \\\n",
       "0               84.529987  ...    0.999254          0.034086        0.844763   \n",
       "1              500.439976  ...    0.998187          0.012726        0.773543   \n",
       "2              528.359071  ...    0.999554          0.033364        0.932265   \n",
       "3              136.831677  ...    0.999821          0.020808        0.903296   \n",
       "4              104.335907  ...    0.999701          0.050357        0.938881   \n",
       "..                    ...  ...         ...               ...             ...   \n",
       "75             158.381659  ...    0.739462          0.059251        0.749874   \n",
       "76             565.541071  ...    0.999632          0.018671        0.837266   \n",
       "77             559.560718  ...    0.999834          0.024734        0.875596   \n",
       "78             202.387520  ...    0.996553          0.010255        0.438604   \n",
       "79             114.267407  ...    0.964893          0.016142        0.545817   \n",
       "\n",
       "    score_rightElbow  score_rightEye  score_rightHip  score_rightKnee  \\\n",
       "0           0.578124        0.999635        0.069375         0.038177   \n",
       "1           0.448644        0.998898        0.085103         0.080082   \n",
       "2           0.466368        0.999205        0.078910         0.040251   \n",
       "3           0.294771        0.999145        0.065031         0.027676   \n",
       "4           0.606705        0.999309        0.196663         0.283722   \n",
       "..               ...             ...             ...              ...   \n",
       "75          0.437110        0.961477        0.071201         0.062468   \n",
       "76          0.183742        0.999025        0.044633         0.016336   \n",
       "77          0.305590        0.999849        0.049900         0.030451   \n",
       "78          0.018512        0.995736        0.018956         0.018354   \n",
       "79          0.028433        0.998009        0.024504         0.027473   \n",
       "\n",
       "    score_rightShoulder  score_rightWrist  class  \n",
       "0              0.979412          0.456421      1  \n",
       "1              0.531657          0.096080      1  \n",
       "2              0.692615          0.773867      1  \n",
       "3              0.773847          0.460311      1  \n",
       "4              0.602111          0.652565      1  \n",
       "..                  ...               ...    ...  \n",
       "75             0.375798          0.246137      0  \n",
       "76             0.794410          0.684698      0  \n",
       "77             0.909052          0.468263      0  \n",
       "78             0.221064          0.017909      0  \n",
       "79             0.489109          0.036795      0  \n",
       "\n",
       "[205 rows x 52 columns]"
      ]
     },
     "execution_count": 24,
     "metadata": {},
     "output_type": "execute_result"
    }
   ],
   "source": [
    "df"
   ]
  },
  {
   "cell_type": "markdown",
   "metadata": {},
   "source": [
    "## Separate between target variable and predictors"
   ]
  },
  {
   "cell_type": "code",
   "execution_count": 25,
   "metadata": {},
   "outputs": [],
   "source": [
    "X = df.drop('class', axis=1)\n",
    "y = df['class']"
   ]
  },
  {
   "cell_type": "markdown",
   "metadata": {},
   "source": [
    "## Divide into train/test sets"
   ]
  },
  {
   "cell_type": "code",
   "execution_count": 26,
   "metadata": {},
   "outputs": [],
   "source": [
    "from sklearn import model_selection\n",
    "X_train, X_test, y_train, y_test = model_selection.train_test_split(X, y, test_size=0.20, random_state=20, shuffle=True)"
   ]
  },
  {
   "cell_type": "code",
   "execution_count": 27,
   "metadata": {},
   "outputs": [
    {
     "name": "stdout",
     "output_type": "stream",
     "text": [
      "Score: 0.926829268292683\n",
      "Number of mislabeled points out of a total 41 points : 3\n"
     ]
    }
   ],
   "source": [
    "from sklearn.ensemble import RandomForestClassifier\n",
    "rf_model = RandomForestClassifier(max_depth=5, random_state = 123)\n",
    "rf_model.fit(X_train, y_train)\n",
    "predictions = rf_model.predict(X_test)\n",
    "\n",
    "rf_model.fit(X_train, y_train)\n",
    "predictions = rf_model.predict(X_test)\n",
    "\n",
    "score = rf_model.score(X_test, y_test)\n",
    "print('Score:', score)\n",
    "print(\"Number of mislabeled points out of a total %d points : %d\" % (X_test.shape[0], (y_test != predictions).sum()))"
   ]
  },
  {
   "cell_type": "markdown",
   "metadata": {},
   "source": [
    "## Confusion Matrix"
   ]
  },
  {
   "cell_type": "code",
   "execution_count": 28,
   "metadata": {},
   "outputs": [
    {
     "name": "stdout",
     "output_type": "stream",
     "text": [
      "True positive: 16 , False positive: 2 , False negative: 1 , True positive: 22\n"
     ]
    },
    {
     "data": {
      "text/plain": [
       "array([[16,  2],\n",
       "       [ 1, 22]])"
      ]
     },
     "execution_count": 28,
     "metadata": {},
     "output_type": "execute_result"
    }
   ],
   "source": [
    "from sklearn.metrics import confusion_matrix\n",
    "tn, fp, fn, tp = confusion_matrix(y_test, predictions).ravel()\n",
    "print('True positive:',tn, ', False positive:',fp, ', False negative:',fn, ', True positive:',tp)\n",
    "confusion_matrix(y_test, predictions)"
   ]
  },
  {
   "cell_type": "code",
   "execution_count": 29,
   "metadata": {},
   "outputs": [
    {
     "data": {
      "image/png": "[encoded data removed]",
      "text/plain": [
       "<Figure size 1080x1080 with 1 Axes>"
      ]
     },
     "metadata": {
      "needs_background": "light"
     },
     "output_type": "display_data"
    }
   ],
   "source": [
    "import matplotlib.pyplot as plt\n",
    "feat_importances = pd.Series(rf_model.feature_importances_, index=X.columns)\n",
    "fig, ax = plt.subplots(1,1, figsize=(15, 15))\n",
    "feat_importances.plot(kind='barh', ax=ax)\n",
    "plt.show()"
   ]
  },
  {
   "cell_type": "markdown",
   "metadata": {},
   "source": [
    "## Cross Validation\n"
   ]
  },
  {
   "cell_type": "code",
   "execution_count": 30,
   "metadata": {},
   "outputs": [
    {
     "data": {
      "text/plain": [
       "0.9706493506493509"
      ]
     },
     "execution_count": 30,
     "metadata": {},
     "output_type": "execute_result"
    }
   ],
   "source": [
    "from sklearn.model_selection import cross_val_score\n",
    "rfc_cv_score = cross_val_score(rf_model, X_train, y_train, cv=10, scoring='roc_auc')\n",
    "rfc_cv_score.mean()"
   ]
  },
  {
   "cell_type": "markdown",
   "metadata": {},
   "source": [
    "## Load model"
   ]
  },
  {
   "cell_type": "code",
   "execution_count": 31,
   "metadata": {},
   "outputs": [
    {
     "data": {
      "text/plain": [
       "['model.joblib']"
      ]
     },
     "execution_count": 31,
     "metadata": {},
     "output_type": "execute_result"
    }
   ],
   "source": [
    "from joblib import dump, load\n",
    "dump(rf_model, 'model.joblib') "
   ]
  },
  {
   "cell_type": "code",
   "execution_count": 32,
   "metadata": {},
   "outputs": [],
   "source": [
    "clf = load('model.joblib')"
   ]
  },
  {
   "cell_type": "code",
   "execution_count": 71,
   "metadata": {},
   "outputs": [],
   "source": [
    "to_predict = df.drop('class', axis=1)"
   ]
  },
  {
   "cell_type": "code",
   "execution_count": 61,
   "metadata": {},
   "outputs": [
    {
     "data": {
      "text/plain": [
       "(41, 51)"
      ]
     },
     "execution_count": 61,
     "metadata": {},
     "output_type": "execute_result"
    }
   ],
   "source": [
    "X_test.shape"
   ]
  },
  {
   "cell_type": "code",
   "execution_count": 72,
   "metadata": {},
   "outputs": [
    {
     "data": {
      "text/plain": [
       "array([1, 1, 1, 1, 1, 1, 1, 1, 1, 1, 1, 1, 1, 1, 1, 1, 1, 1, 1, 1, 1, 1,\n",
       "       1, 1, 1, 1, 1, 1, 1, 1, 1, 1, 1, 1, 1, 1, 1, 1, 1, 1, 1, 1, 1, 1,\n",
       "       1, 1, 0, 1, 1, 1, 1, 1, 1, 1, 1, 1, 1, 1, 1, 1, 1, 1, 1, 1, 1, 1,\n",
       "       1, 1, 1, 1, 1, 1, 1, 1, 1, 1, 1, 1, 1, 1, 1, 1, 1, 1, 1, 1, 1, 1,\n",
       "       1, 1, 1, 1, 1, 1, 1, 1, 1, 1, 1, 1, 1, 1, 1, 1, 1, 1, 1, 1, 1, 1,\n",
       "       1, 1, 1, 1, 1, 1, 1, 1, 1, 1, 1, 1, 1, 1, 1, 0, 0, 0, 0, 0, 0, 0,\n",
       "       0, 0, 0, 0, 0, 0, 0, 0, 0, 0, 0, 0, 0, 0, 0, 0, 0, 0, 0, 0, 0, 0,\n",
       "       0, 0, 0, 0, 0, 0, 0, 0, 0, 0, 0, 0, 0, 0, 0, 0, 0, 0, 0, 0, 0, 0,\n",
       "       0, 0, 0, 0, 0, 0, 1, 0, 0, 0, 0, 0, 0, 0, 0, 0, 0, 0, 0, 0, 0, 0,\n",
       "       0, 0, 1, 0, 0, 0, 0])"
      ]
     },
     "execution_count": 72,
     "metadata": {},
     "output_type": "execute_result"
    }
   ],
   "source": [
    "clf.predict(to_predict.values)"
   ]
  }
 ],
 "metadata": {
  "hide_input": false,
  "kernelspec": {
   "display_name": "Python 3",
   "language": "python",
   "name": "python3"
  },
  "language_info": {
   "codemirror_mode": {
    "name": "ipython",
    "version": 3
   },
   "file_extension": ".py",
   "mimetype": "text/x-python",
   "name": "python",
   "nbconvert_exporter": "python",
   "pygments_lexer": "ipython3",
   "version": "3.6.8"
  },
  "toc": {
   "base_numbering": 1,
   "nav_menu": {},
   "number_sections": true,
   "sideBar": true,
   "skip_h1_title": false,
   "title_cell": "Table of Contents",
   "title_sidebar": "Contents",
   "toc_cell": false,
   "toc_position": {},
   "toc_section_display": true,
   "toc_window_display": false
  }
 },
 "nbformat": 4,
 "nbformat_minor": 4
}
